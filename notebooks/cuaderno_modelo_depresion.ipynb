{
 "cells": [
  {
   "cell_type": "code",
   "execution_count": 1,
   "metadata": {
    "id": "enRXxplCN1wM"
   },
   "outputs": [],
   "source": [
    "import pandas as pd\n",
    "import numpy as np\n",
    "import seaborn as sns\n",
    "import matplotlib.pyplot as plt"
   ]
  },
  {
   "cell_type": "code",
   "execution_count": 2,
   "metadata": {
    "id": "tcrgZzzlQ7OH"
   },
   "outputs": [],
   "source": [
    "df = pd.read_csv(\"dataset_depresion_reducido.csv\")"
   ]
  },
  {
   "cell_type": "code",
   "execution_count": 3,
   "metadata": {
    "colab": {
     "base_uri": "https://localhost:8080/"
    },
    "id": "aI7WnFBshGa8",
    "outputId": "2c4c5078-7062-4be5-acfe-18f79b4e7423"
   },
   "outputs": [
    {
     "name": "stdout",
     "output_type": "stream",
     "text": [
      "<class 'pandas.core.frame.DataFrame'>\n",
      "RangeIndex: 2008962 entries, 0 to 2008961\n",
      "Data columns (total 2 columns):\n",
      " #   Column          Dtype \n",
      "---  ------          ----- \n",
      " 0   label           int64 \n",
      " 1   processed_text  object\n",
      "dtypes: int64(1), object(1)\n",
      "memory usage: 30.7+ MB\n"
     ]
    }
   ],
   "source": [
    "df.info()"
   ]
  },
  {
   "cell_type": "code",
   "execution_count": 4,
   "metadata": {
    "id": "7fDr4vJBN2tc"
   },
   "outputs": [],
   "source": [
    "from sklearn.feature_extraction.text import TfidfVectorizer\n",
    "from sklearn.model_selection import train_test_split\n",
    "from tensorflow.keras.models import Sequential\n",
    "from tensorflow.keras.layers import Dense, Dropout\n",
    "from sklearn.preprocessing import StandardScaler\n",
    "import tensorflow as tf\n"
   ]
  },
  {
   "cell_type": "code",
   "execution_count": 5,
   "metadata": {
    "colab": {
     "base_uri": "https://localhost:8080/",
     "height": 145
    },
    "id": "XvMxKKA0gx0K",
    "outputId": "c976601c-39ee-440d-f4e2-825eeeacdaaf"
   },
   "outputs": [
    {
     "data": {
      "text/plain": [
       "label\n",
       "0    1547229\n",
       "1     461733\n",
       "Name: count, dtype: int64"
      ]
     },
     "execution_count": 5,
     "metadata": {},
     "output_type": "execute_result"
    }
   ],
   "source": [
    "df['label'].value_counts()"
   ]
  },
  {
   "cell_type": "code",
   "execution_count": 6,
   "metadata": {
    "colab": {
     "base_uri": "https://localhost:8080/"
    },
    "id": "5VUjU8FJwBZf",
    "outputId": "c2b0356b-76a0-4341-e2c6-c4562870a649"
   },
   "outputs": [
    {
     "name": "stdout",
     "output_type": "stream",
     "text": [
      "<class 'pandas.core.frame.DataFrame'>\n",
      "RangeIndex: 2008962 entries, 0 to 2008961\n",
      "Data columns (total 2 columns):\n",
      " #   Column          Dtype \n",
      "---  ------          ----- \n",
      " 0   label           int64 \n",
      " 1   processed_text  object\n",
      "dtypes: int64(1), object(1)\n",
      "memory usage: 30.7+ MB\n"
     ]
    }
   ],
   "source": [
    "# prompt: cámbiame label a int64\n",
    "\n",
    "import numpy as np\n",
    "df['label'] = df['label'].astype(np.int64)\n",
    "df.info()"
   ]
  },
  {
   "cell_type": "code",
   "execution_count": 7,
   "metadata": {
    "id": "PBF8iThaN2rH"
   },
   "outputs": [],
   "source": [
    "#df['text_input'] = df['title'].fillna('') + ' ' + df['body'].fillna('')"
   ]
  },
  {
   "cell_type": "code",
   "execution_count": 8,
   "metadata": {
    "colab": {
     "base_uri": "https://localhost:8080/",
     "height": 299
    },
    "id": "gWmWw8ChN2o7",
    "outputId": "9484463d-65d3-4e45-f077-9555044019a6"
   },
   "outputs": [],
   "source": [
    "tfidf = TfidfVectorizer(\n",
    "    max_features=1000,  # Aumentado de 500 a 1000 características\n",
    "    ngram_range=(1, 3),  # Incluir unigramas, bigramas y trigramas\n",
    "    max_df=0.90,  # Ignorar palabras que aparecen en más del 90% de los textos (probablemente stopwords o palabras muy comunes)\n",
    "    min_df=5,     # Ignorar palabras que aparecen en menos de 5 textos (probablemente errores o casos muy específicos)\n",
    "    binary=False  # False = usar frecuencias, True = solo presencia/ausencia\n",
    ")\n",
    "# Fill NaN values with empty strings before applying TfidfVectorizer\n",
    "df['processed_text'] = df['processed_text'].fillna('')\n",
    "X = tfidf.fit_transform(df['processed_text']).toarray()"
   ]
  },
  {
   "cell_type": "code",
   "execution_count": 9,
   "metadata": {
    "id": "qK8vLaLON2mk"
   },
   "outputs": [],
   "source": [
    "y = df['label']"
   ]
  },
  {
   "cell_type": "code",
   "execution_count": 10,
   "metadata": {
    "id": "_AF6U83QN2k6"
   },
   "outputs": [],
   "source": [
    "X_train, X_test, y_train, y_test = train_test_split(X, y, test_size=0.15, stratify=y, random_state=42)"
   ]
  },
  {
   "cell_type": "code",
   "execution_count": 11,
   "metadata": {},
   "outputs": [
    {
     "data": {
      "text/plain": [
       "(1707617,)"
      ]
     },
     "execution_count": 11,
     "metadata": {},
     "output_type": "execute_result"
    }
   ],
   "source": [
    "y_train.shape"
   ]
  },
  {
   "cell_type": "code",
   "execution_count": 12,
   "metadata": {},
   "outputs": [],
   "source": [
    "X_train_final, X_val, y_train_final, y_val = train_test_split(X_train, y_train, stratify=y_train, test_size=0.15, random_state=42)"
   ]
  },
  {
   "cell_type": "code",
   "execution_count": 13,
   "metadata": {},
   "outputs": [],
   "source": [
    "from keras.callbacks import EarlyStopping"
   ]
  },
  {
   "cell_type": "code",
   "execution_count": 14,
   "metadata": {
    "colab": {
     "base_uri": "https://localhost:8080/",
     "height": 412
    },
    "id": "HVYyZsekN2ia",
    "outputId": "22f78b52-1f51-4c5b-f4ef-aa8e57b63943"
   },
   "outputs": [
    {
     "name": "stderr",
     "output_type": "stream",
     "text": [
      "/opt/anaconda3/lib/python3.12/site-packages/keras/src/layers/core/dense.py:93: UserWarning: Do not pass an `input_shape`/`input_dim` argument to a layer. When using Sequential models, prefer using an `Input(shape)` object as the first layer in the model instead.\n",
      "  super().__init__(activity_regularizer=activity_regularizer, **kwargs)\n"
     ]
    },
    {
     "name": "stdout",
     "output_type": "stream",
     "text": [
      "Epoch 1/10\n",
      "\u001b[1m45359/45359\u001b[0m \u001b[32m━━━━━━━━━━━━━━━━━━━━\u001b[0m\u001b[37m\u001b[0m \u001b[1m49s\u001b[0m 1ms/step - accuracy: 0.9246 - loss: 0.1936 - val_accuracy: 0.9349 - val_loss: 0.1685\n",
      "Epoch 2/10\n",
      "\u001b[1m45359/45359\u001b[0m \u001b[32m━━━━━━━━━━━━━━━━━━━━\u001b[0m\u001b[37m\u001b[0m \u001b[1m48s\u001b[0m 1ms/step - accuracy: 0.9377 - loss: 0.1645 - val_accuracy: 0.9375 - val_loss: 0.1631\n",
      "Epoch 3/10\n",
      "\u001b[1m45359/45359\u001b[0m \u001b[32m━━━━━━━━━━━━━━━━━━━━\u001b[0m\u001b[37m\u001b[0m \u001b[1m49s\u001b[0m 1ms/step - accuracy: 0.9412 - loss: 0.1563 - val_accuracy: 0.9374 - val_loss: 0.1627\n",
      "Epoch 4/10\n",
      "\u001b[1m45359/45359\u001b[0m \u001b[32m━━━━━━━━━━━━━━━━━━━━\u001b[0m\u001b[37m\u001b[0m \u001b[1m49s\u001b[0m 1ms/step - accuracy: 0.9439 - loss: 0.1502 - val_accuracy: 0.9372 - val_loss: 0.1639\n",
      "Epoch 5/10\n",
      "\u001b[1m45359/45359\u001b[0m \u001b[32m━━━━━━━━━━━━━━━━━━━━\u001b[0m\u001b[37m\u001b[0m \u001b[1m48s\u001b[0m 1ms/step - accuracy: 0.9466 - loss: 0.1454 - val_accuracy: 0.9366 - val_loss: 0.1658\n",
      "Epoch 6/10\n",
      "\u001b[1m45359/45359\u001b[0m \u001b[32m━━━━━━━━━━━━━━━━━━━━\u001b[0m\u001b[37m\u001b[0m \u001b[1m48s\u001b[0m 1ms/step - accuracy: 0.9478 - loss: 0.1428 - val_accuracy: 0.9363 - val_loss: 0.1692\n",
      "Epoch 7/10\n",
      "\u001b[1m45359/45359\u001b[0m \u001b[32m━━━━━━━━━━━━━━━━━━━━\u001b[0m\u001b[37m\u001b[0m \u001b[1m47s\u001b[0m 1ms/step - accuracy: 0.9493 - loss: 0.1398 - val_accuracy: 0.9364 - val_loss: 0.1704\n",
      "Epoch 8/10\n",
      "\u001b[1m45359/45359\u001b[0m \u001b[32m━━━━━━━━━━━━━━━━━━━━\u001b[0m\u001b[37m\u001b[0m \u001b[1m49s\u001b[0m 1ms/step - accuracy: 0.9508 - loss: 0.1366 - val_accuracy: 0.9356 - val_loss: 0.1717\n"
     ]
    }
   ],
   "source": [
    "model = Sequential([\n",
    "    Dense(256, activation='relu', input_shape=(X_train.shape[1],)),\n",
    "    Dropout(0.3),\n",
    "    Dense(128, activation='relu'),\n",
    "    Dropout(0.3),\n",
    "    Dense(1, activation='sigmoid')\n",
    "])\n",
    "early_stop = EarlyStopping(\n",
    "  monitor='val_loss',\n",
    "  patience=5,\n",
    "  restore_best_weights=True\n",
    ")\n",
    "model.compile(optimizer='adam', loss='binary_crossentropy', metrics=['accuracy'])\n",
    "\n",
    "history = model.fit(X_train_final, y_train_final, epochs=10, batch_size=32, validation_data=(X_val, y_val), callbacks = [early_stop])"
   ]
  },
  {
   "cell_type": "code",
   "execution_count": null,
   "metadata": {},
   "outputs": [],
   "source": []
  },
  {
   "cell_type": "code",
   "execution_count": 15,
   "metadata": {},
   "outputs": [],
   "source": [
    "model.save(\"modelo_depresion.keras\")"
   ]
  },
  {
   "cell_type": "code",
   "execution_count": 16,
   "metadata": {
    "id": "R3rVT74NN2gW"
   },
   "outputs": [
    {
     "name": "stdout",
     "output_type": "stream",
     "text": [
      "\u001b[1m9418/9418\u001b[0m \u001b[32m━━━━━━━━━━━━━━━━━━━━\u001b[0m\u001b[37m\u001b[0m \u001b[1m3s\u001b[0m 341us/step - accuracy: 0.9375 - loss: 0.1637\n"
     ]
    }
   ],
   "source": [
    "# Evaluación del modelo\n",
    "loss, accuracy = model.evaluate(X_test, y_test)"
   ]
  },
  {
   "cell_type": "code",
   "execution_count": 17,
   "metadata": {},
   "outputs": [
    {
     "data": {
      "text/plain": [
       "0.16348367929458618"
      ]
     },
     "execution_count": 17,
     "metadata": {},
     "output_type": "execute_result"
    }
   ],
   "source": [
    "loss"
   ]
  },
  {
   "cell_type": "code",
   "execution_count": 18,
   "metadata": {},
   "outputs": [
    {
     "data": {
      "text/plain": [
       "0.9375068545341492"
      ]
     },
     "execution_count": 18,
     "metadata": {},
     "output_type": "execute_result"
    }
   ],
   "source": [
    "accuracy"
   ]
  },
  {
   "cell_type": "code",
   "execution_count": 19,
   "metadata": {},
   "outputs": [
    {
     "name": "stdout",
     "output_type": "stream",
     "text": [
      "\u001b[1m9418/9418\u001b[0m \u001b[32m━━━━━━━━━━━━━━━━━━━━\u001b[0m\u001b[37m\u001b[0m \u001b[1m3s\u001b[0m 287us/step\n"
     ]
    }
   ],
   "source": [
    "y_pred_probs = model.predict(X_test)  # Probabilidades\n",
    "y_pred = (y_pred_probs > 0.5).astype(int)  # Convertir a clases (0 o 1)"
   ]
  },
  {
   "cell_type": "code",
   "execution_count": 20,
   "metadata": {},
   "outputs": [
    {
     "name": "stdout",
     "output_type": "stream",
     "text": [
      "Precision: 0.88\n",
      "Recall: 0.84\n",
      "F1-score: 0.86\n"
     ]
    }
   ],
   "source": [
    "from sklearn.metrics import precision_score, recall_score, f1_score, classification_report\n",
    "\n",
    "# Para clasificación binaria o multiclase:\n",
    "precision = precision_score(y_test, y_pred, average='binary')  # 'binary' para binaria\n",
    "recall = recall_score(y_test, y_pred, average='binary')\n",
    "f1 = f1_score(y_test, y_pred, average='binary')\n",
    "\n",
    "print(f\"Precision: {precision:.2f}\")\n",
    "print(f\"Recall: {recall:.2f}\")\n",
    "print(f\"F1-score: {f1:.2f}\")"
   ]
  },
  {
   "cell_type": "code",
   "execution_count": 21,
   "metadata": {},
   "outputs": [],
   "source": [
    "from sklearn.metrics import confusion_matrix, ConfusionMatrixDisplay\n",
    "import matplotlib.pyplot as plt\n"
   ]
  },
  {
   "cell_type": "code",
   "execution_count": 22,
   "metadata": {},
   "outputs": [
    {
     "data": {
      "image/png": "[encoded data removed]",
      "text/plain": [
       "<Figure size 640x480 with 2 Axes>"
      ]
     },
     "metadata": {},
     "output_type": "display_data"
    }
   ],
   "source": [
    "cm = confusion_matrix(y_test, y_pred)\n",
    "disp = ConfusionMatrixDisplay(confusion_matrix=cm)\n",
    "disp.plot()\n",
    "plt.show()"
   ]
  },
  {
   "cell_type": "code",
   "execution_count": null,
   "metadata": {},
   "outputs": [],
   "source": []
  }
 ],
 "metadata": {
  "colab": {
   "provenance": []
  },
  "kernelspec": {
   "display_name": "Python [conda env:base] *",
   "language": "python",
   "name": "conda-base-py"
  },
  "language_info": {
   "codemirror_mode": {
    "name": "ipython",
    "version": 3
   },
   "file_extension": ".py",
   "mimetype": "text/x-python",
   "name": "python",
   "nbconvert_exporter": "python",
   "pygments_lexer": "ipython3",
   "version": "3.12.7"
  }
 },
 "nbformat": 4,
 "nbformat_minor": 4
}
